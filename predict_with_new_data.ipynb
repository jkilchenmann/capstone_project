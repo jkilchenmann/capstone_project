{
 "cells": [
  {
   "cell_type": "markdown",
   "id": "5685cece-b4cf-49c8-8b58-d479eb2cb24a",
   "metadata": {},
   "source": [
    "# Using the Model to Predict Times for New Data"
   ]
  },
  {
   "cell_type": "markdown",
   "id": "4f025a02-c0db-4fe4-9a9e-716c5300aea5",
   "metadata": {},
   "source": [
    "### This notebook takes the cleaned dataset (log_cleaned.csv) that was used to train and test the model in order to see how well the model works with new data that was not part of the original testing or training process.  It calculates mean absolute error and R² to determine how well the model is able to predict flight times, both for airport pairs the model or testing have seen before and for those that it has not."
   ]
  },
  {
   "cell_type": "markdown",
   "id": "b5dab7f5-af89-49e0-8281-7dd84f65f699",
   "metadata": {},
   "source": [
    "## Step 1: Load Dependencies"
   ]
  },
  {
   "cell_type": "code",
   "execution_count": 1,
   "id": "47a83a5c-f1e9-4074-a54c-4c0123aaffc6",
   "metadata": {},
   "outputs": [],
   "source": [
    "import pandas as pd\n",
    "import numpy as np\n",
    "from sklearn.ensemble import RandomForestRegressor\n",
    "from sklearn.preprocessing import OneHotEncoder\n",
    "from sklearn.metrics import mean_absolute_error, r2_score\n",
    "import matplotlib.pyplot as plt\n",
    "import seaborn as sns"
   ]
  },
  {
   "cell_type": "markdown",
   "id": "fa16fd94-740b-4c7b-a5ad-dd1fac6d9a15",
   "metadata": {},
   "source": [
    "## Step 2: Load Data"
   ]
  },
  {
   "cell_type": "markdown",
   "id": "e63e44dd-818f-4b39-9d20-bc773aa902dc",
   "metadata": {},
   "source": [
    "This step loads the data from the original csv file and makes all of the column headings lower case."
   ]
  },
  {
   "cell_type": "code",
   "execution_count": 2,
   "id": "b35100bd-93e9-47c5-a618-b0f3914798d7",
   "metadata": {},
   "outputs": [],
   "source": [
    "df = pd.read_csv(\"log_cleaned.csv\")\n",
    "df.columns = df.columns.str.strip().str.lower()"
   ]
  },
  {
   "cell_type": "markdown",
   "id": "b75e1031-a40d-44a9-b9a4-e1d84037ea47",
   "metadata": {},
   "source": [
    "## Step 3: Conversion of times to Minutes "
   ]
  },
  {
   "cell_type": "markdown",
   "id": "7f2d5f4a-0c8e-4f9b-b715-af9c5d4f86b8",
   "metadata": {},
   "source": [
    "This step coverts the duration from hours and minutes into total minutes and converts the departure time into the minute of the day (e.g. 1:00 am is 60 minutes). "
   ]
  },
  {
   "cell_type": "code",
   "execution_count": 3,
   "id": "5a1e2c0c-aba4-4661-8b14-bc4cf5417c4a",
   "metadata": {},
   "outputs": [],
   "source": [
    "# Convert 'duration' from \"H:MM\" to minutes\n",
    "def duration_to_minutes(duration_str):\n",
    "    try:\n",
    "        h, m = map(int, duration_str.strip().split(':'))\n",
    "        return h * 60 + m\n",
    "    except:\n",
    "        return np.nan\n",
    "\n",
    "df['duration'] = df['duration'].apply(duration_to_minutes)\n",
    "df = df.dropna(subset=['duration'])\n",
    "\n",
    "df['depminuteofday'] = (\n",
    "    pd.to_datetime(df['dep time'], format='%H:%M', errors='coerce').dt.hour * 60 +\n",
    "    pd.to_datetime(df['dep time'], format='%H:%M', errors='coerce').dt.minute\n",
    ")\n",
    "df = df.dropna(subset=['depminuteofday'])"
   ]
  },
  {
   "cell_type": "markdown",
   "id": "8368fd5f-c0a5-4d54-8be9-969be12c0b97",
   "metadata": {},
   "source": [
    "## Step 4: Encode Data"
   ]
  },
  {
   "cell_type": "code",
   "execution_count": 4,
   "id": "74aeacd4-8734-4456-a6ac-bb410e317e3a",
   "metadata": {},
   "outputs": [],
   "source": [
    "categorical_cols = ['from iata code', 'to iata code', 'aircraft']\n",
    "encoder = OneHotEncoder(sparse=False, handle_unknown='ignore')\n",
    "encoded = encoder.fit_transform(df[categorical_cols])\n",
    "encoded_df = pd.DataFrame(encoded, columns=encoder.get_feature_names_out(categorical_cols))\n",
    "\n",
    "X = pd.concat([df[['distance', 'depminuteofday']].reset_index(drop=True), encoded_df.reset_index(drop=True)], axis=1)\n",
    "y = df['duration']"
   ]
  },
  {
   "cell_type": "markdown",
   "id": "30216f9e-7f68-4164-85e3-c6cb1d2540f3",
   "metadata": {},
   "source": [
    "## Step 5:  Random Forest Prediction"
   ]
  },
  {
   "cell_type": "markdown",
   "id": "dd3ca28c-cdde-4bf5-9d19-288bed8425b4",
   "metadata": {},
   "source": [
    "This step uses the RandomForestRegressor to train the model and then predict times.  It calculates and displays the MAE and R-squared.  It computes the overall MAE & R-squared for the 20 observations and then separate MAE & R-squared for the first 10 (which contains airport pairings from the original model) and the last 10 (which includes airport pairings that were not in the original model)."
   ]
  },
  {
   "cell_type": "code",
   "execution_count": 5,
   "id": "37af22ff-40bb-4fa0-823a-f274530eb7b9",
   "metadata": {},
   "outputs": [
    {
     "name": "stdout",
     "output_type": "stream",
     "text": [
      "\n",
      "Overall Mean Absolute Error (MAE): 8.76 minutes\n",
      "Overall R-squared (R²): 0.9790\n",
      "\n",
      "First 10 Observations - MAE: 7.81 minutes, R²: 0.9786\n",
      "Last 10 Observations - MAE: 9.71 minutes, R²: 0.9775\n"
     ]
    }
   ],
   "source": [
    "model = RandomForestRegressor(n_estimators=100, random_state=42)\n",
    "model.fit(X, y)\n",
    "\n",
    "new_df = pd.read_csv(\"july_15_2025_flights.csv\")\n",
    "new_df.columns = new_df.columns.str.strip().str.lower()\n",
    "\n",
    "if new_df['duration'].dtype == object:\n",
    "    new_df['actual_duration'] = new_df['duration'].apply(duration_to_minutes)\n",
    "else:\n",
    "    new_df['actual_duration'] = new_df['duration']\n",
    "\n",
    "new_df['depminuteofday'] = (\n",
    "    pd.to_datetime(new_df['dep time'], format='%H:%M', errors='coerce').dt.hour * 60 +\n",
    "    pd.to_datetime(new_df['dep time'], format='%H:%M', errors='coerce').dt.minute\n",
    ")\n",
    "new_df = new_df.dropna(subset=['depminuteofday'])\n",
    "\n",
    "encoded_new = encoder.transform(new_df[categorical_cols])\n",
    "encoded_new_df = pd.DataFrame(encoded_new, columns=encoder.get_feature_names_out(categorical_cols))\n",
    "\n",
    "X_new = pd.concat([new_df[['distance', 'depminuteofday']].reset_index(drop=True), encoded_new_df.reset_index(drop=True)], axis=1)\n",
    "\n",
    "new_df['predicted_duration'] = model.predict(X_new).round(2)\n",
    "\n",
    "if 'actual_duration' in new_df.columns:\n",
    "    new_df['absolute_error'] = (new_df['actual_duration'] - new_df['predicted_duration']).abs().round(2)\n",
    "\n",
    "    # Overall metrics\n",
    "    mae = mean_absolute_error(new_df['actual_duration'], new_df['predicted_duration'])\n",
    "    r2 = r2_score(new_df['actual_duration'], new_df['predicted_duration'])\n",
    "    print(f\"\\nOverall Mean Absolute Error (MAE): {mae:.2f} minutes\")\n",
    "    print(f\"Overall R-squared (R²): {r2:.4f}\")\n",
    "\n",
    "    # First 10 observations\n",
    "    first_10 = new_df.head(10)\n",
    "    mae_first_10 = mean_absolute_error(first_10['actual_duration'], first_10['predicted_duration'])\n",
    "    r2_first_10 = r2_score(first_10['actual_duration'], first_10['predicted_duration'])\n",
    "    print(f\"\\nFirst 10 Observations - MAE: {mae_first_10:.2f} minutes, R²: {r2_first_10:.4f}\")\n",
    "\n",
    "    # Last 10 observations\n",
    "    last_10 = new_df.tail(10)\n",
    "    mae_last_10 = mean_absolute_error(last_10['actual_duration'], last_10['predicted_duration'])\n",
    "    r2_last_10 = r2_score(last_10['actual_duration'], last_10['predicted_duration'])\n",
    "    print(f\"Last 10 Observations - MAE: {mae_last_10:.2f} minutes, R²: {r2_last_10:.4f}\")\n"
   ]
  },
  {
   "cell_type": "markdown",
   "id": "ae04a521-8f5d-4e95-9c7c-4f9ccdc83bd2",
   "metadata": {},
   "source": [
    "## Step 6: Predictions with Errors"
   ]
  },
  {
   "cell_type": "markdown",
   "id": "79bbbd4e-4e12-4091-8244-6735622b3706",
   "metadata": {},
   "source": [
    "This step displays the predictions for all 20 flights to gauge how close the predictions are to actual."
   ]
  },
  {
   "cell_type": "code",
   "execution_count": 6,
   "id": "ccb9e60d-1060-4433-95e4-d0bec0d58db0",
   "metadata": {},
   "outputs": [
    {
     "name": "stdout",
     "output_type": "stream",
     "text": [
      "\n",
      "Prediction Results:\n",
      "   From   To  Distance  Actual Duration  Predicted Duration  Absolute Error\n",
      "0   ORD  MSP       334               59               65.65            6.65\n",
      "1   ORD  MSP       334               64               61.56            2.44\n",
      "2   ORD  MSP       334               55               61.44            6.44\n",
      "3   DTW  MKE       237               45               41.32            3.68\n",
      "4   MKE  DTW       237               46               40.89            5.11\n",
      "5   MKE  DFW       853              123              116.54            6.46\n",
      "6   DFW  MKE       853              123              106.93           16.07\n",
      "7   ORD  SEA      1721              230              238.75            8.75\n",
      "8   SEA  ORD      1721              219              198.33           20.67\n",
      "9   MDW  MEM       480               71               72.85            1.85\n",
      "10  DEN  GEG       836              115              110.88            4.12\n",
      "11  LAX  EWR      2454              290              267.83           22.17\n",
      "12  ORD  MCO      1005              127              138.55           11.55\n",
      "13  MDW  SFO      1855              248              231.02           16.98\n",
      "14  MEM  DAL       423               61               71.64           10.64\n",
      "15  ORD  ALB       723               91              102.75           11.75\n",
      "16  EWR  PWM       284               45               46.41            1.41\n",
      "17  ATL  ABQ      1269              162              165.37            3.37\n",
      "18  ABQ  ATL      1269              153              163.80           10.80\n",
      "19  AUS  MSY       444               62               66.31            4.31\n"
     ]
    }
   ],
   "source": [
    "cols_to_show = ['from iata code', 'to iata code', 'distance', 'actual_duration', 'predicted_duration', 'absolute_error']\n",
    "display_df = new_df[cols_to_show].rename(columns={\n",
    "    'from iata code': 'From',\n",
    "    'to iata code': 'To',\n",
    "    'distance': 'Distance',\n",
    "    'actual_duration': 'Actual Duration',\n",
    "    'predicted_duration': 'Predicted Duration',\n",
    "    'absolute_error': 'Absolute Error'\n",
    "})\n",
    "\n",
    "print(\"\\nPrediction Results:\")\n",
    "print(display_df)"
   ]
  },
  {
   "cell_type": "markdown",
   "id": "0f53cffa-6696-4326-b112-cdf751fc6efa",
   "metadata": {},
   "source": [
    "## Step 7: Visualization"
   ]
  },
  {
   "cell_type": "markdown",
   "id": "7c144070-cbe7-4346-97cc-e57af352e760",
   "metadata": {},
   "source": [
    "This step shows a visualization of the data against actual times."
   ]
  },
  {
   "cell_type": "code",
   "execution_count": 7,
   "id": "da83b4b8-bd29-41dd-bf98-5da7f258493f",
   "metadata": {},
   "outputs": [
    {
     "data": {
      "image/png": "[encoded data removed]",
      "text/plain": [
       "<Figure size 576x432 with 1 Axes>"
      ]
     },
     "metadata": {
      "needs_background": "light"
     },
     "output_type": "display_data"
    }
   ],
   "source": [
    "if 'actual_duration' in new_df.columns:\n",
    "    plt.figure(figsize=(8, 6))\n",
    "    plt.scatter(new_df['actual_duration'], new_df['predicted_duration'], alpha=0.5)\n",
    "    plt.xlabel(\"Actual Duration (minutes)\")\n",
    "    plt.ylabel(\"Predicted Duration (minutes)\")\n",
    "    plt.title(\"Predicted vs Actual Flight Duration\")\n",
    "    plt.plot(\n",
    "        [new_df['actual_duration'].min(), new_df['actual_duration'].max()], \n",
    "        [new_df['actual_duration'].min(), new_df['actual_duration'].max()], \n",
    "        color='red'\n",
    "    )\n",
    "    plt.grid(True)\n",
    "    plt.tight_layout()\n",
    "    plt.show()"
   ]
  },
  {
   "cell_type": "code",
   "execution_count": 8,
   "id": "7152a945-680c-4cd5-b31f-c12aee396f16",
   "metadata": {},
   "outputs": [
    {
     "data": {
      "image/png": "[encoded data removed]",
      "text/plain": [
       "<Figure size 864x432 with 1 Axes>"
      ]
     },
     "metadata": {
      "needs_background": "light"
     },
     "output_type": "display_data"
    }
   ],
   "source": [
    "# Feature importance plot\n",
    "importances = model.feature_importances_\n",
    "feature_names = X.columns\n",
    "feature_importance_df = pd.DataFrame({'feature': feature_names, 'importance': importances})\n",
    "feature_importance_df = feature_importance_df.sort_values(by='importance', ascending=False)\n",
    "\n",
    "plt.figure(figsize=(12, 6))\n",
    "sns.barplot(x='importance', y='feature', data=feature_importance_df.head(5))\n",
    "plt.title(\"Top 5 Feature Importances\")\n",
    "plt.tight_layout()\n",
    "plt.show()"
   ]
  },
  {
   "cell_type": "code",
   "execution_count": 9,
   "id": "36184831-9192-4d4e-b47c-c871c75cce8d",
   "metadata": {},
   "outputs": [
    {
     "data": {
      "text/html": [
       "<div>\n",
       "<style scoped>\n",
       "    .dataframe tbody tr th:only-of-type {\n",
       "        vertical-align: middle;\n",
       "    }\n",
       "\n",
       "    .dataframe tbody tr th {\n",
       "        vertical-align: top;\n",
       "    }\n",
       "\n",
       "    .dataframe thead th {\n",
       "        text-align: right;\n",
       "    }\n",
       "</style>\n",
       "<table border=\"1\" class=\"dataframe\">\n",
       "  <thead>\n",
       "    <tr style=\"text-align: right;\">\n",
       "      <th></th>\n",
       "      <th>Feature</th>\n",
       "      <th>Importance</th>\n",
       "    </tr>\n",
       "  </thead>\n",
       "  <tbody>\n",
       "    <tr>\n",
       "      <th>0</th>\n",
       "      <td>distance</td>\n",
       "      <td>0.960215</td>\n",
       "    </tr>\n",
       "    <tr>\n",
       "      <th>1</th>\n",
       "      <td>depminuteofday</td>\n",
       "      <td>0.008542</td>\n",
       "    </tr>\n",
       "    <tr>\n",
       "      <th>233</th>\n",
       "      <td>to iata code_ORD</td>\n",
       "      <td>0.004258</td>\n",
       "    </tr>\n",
       "    <tr>\n",
       "      <th>98</th>\n",
       "      <td>from iata code_ORD</td>\n",
       "      <td>0.002283</td>\n",
       "    </tr>\n",
       "    <tr>\n",
       "      <th>17</th>\n",
       "      <td>from iata code_BOS</td>\n",
       "      <td>0.001043</td>\n",
       "    </tr>\n",
       "  </tbody>\n",
       "</table>\n",
       "</div>"
      ],
      "text/plain": [
       "                Feature  Importance\n",
       "0              distance    0.960215\n",
       "1        depminuteofday    0.008542\n",
       "233    to iata code_ORD    0.004258\n",
       "98   from iata code_ORD    0.002283\n",
       "17   from iata code_BOS    0.001043"
      ]
     },
     "execution_count": 9,
     "metadata": {},
     "output_type": "execute_result"
    }
   ],
   "source": [
    "importances = model.feature_importances_\n",
    "feature_names = X.columns\n",
    "feat_imp_df = pd.DataFrame({'Feature': feature_names, 'Importance': importances})\n",
    "feat_imp_df.sort_values(by='Importance', ascending=False).head(5)"
   ]
  }
 ],
 "metadata": {
  "kernelspec": {
   "display_name": "Python 3 (ipykernel)",
   "language": "python",
   "name": "python3"
  },
  "language_info": {
   "codemirror_mode": {
    "name": "ipython",
    "version": 3
   },
   "file_extension": ".py",
   "mimetype": "text/x-python",
   "name": "python",
   "nbconvert_exporter": "python",
   "pygments_lexer": "ipython3",
   "version": "3.9.19"
  }
 },
 "nbformat": 4,
 "nbformat_minor": 5
}
