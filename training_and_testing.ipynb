{
 "cells": [
  {
   "cell_type": "markdown",
   "id": "5685cece-b4cf-49c8-8b58-d479eb2cb24a",
   "metadata": {},
   "source": [
    "# Testing and Training Model"
   ]
  },
  {
   "cell_type": "markdown",
   "id": "0d551e09-f8b9-4c44-91bd-e751060c6340",
   "metadata": {},
   "source": [
    "### This notebook takes the cleaned dataset (log_cleaned.csv) to train and test the model.  It then calculates mean absolute error and R² to determine how well the model is able to predict flight times."
   ]
  },
  {
   "cell_type": "markdown",
   "id": "b5dab7f5-af89-49e0-8281-7dd84f65f699",
   "metadata": {},
   "source": [
    "## Step 1: Load Dependencies"
   ]
  },
  {
   "cell_type": "code",
   "execution_count": null,
   "id": "47a83a5c-f1e9-4074-a54c-4c0123aaffc6",
   "metadata": {},
   "outputs": [],
   "source": [
    "import pandas as pd\n",
    "import numpy as np\n",
    "from sklearn.model_selection import train_test_split\n",
    "from sklearn.preprocessing import OneHotEncoder\n",
    "from sklearn.ensemble import RandomForestRegressor\n",
    "from sklearn.metrics import mean_absolute_error, r2_score\n",
    "import matplotlib.pyplot as plt"
   ]
  },
  {
   "cell_type": "markdown",
   "id": "fa16fd94-740b-4c7b-a5ad-dd1fac6d9a15",
   "metadata": {},
   "source": [
    "## Step 2: Load Data"
   ]
  },
  {
   "cell_type": "markdown",
   "id": "e63e44dd-818f-4b39-9d20-bc773aa902dc",
   "metadata": {},
   "source": [
    "This step loads the data in the csv file and makes all of the column headings lower case.  There were several errors when using sentence case headings, so this eliminates that problem."
   ]
  },
  {
   "cell_type": "code",
   "execution_count": null,
   "id": "b35100bd-93e9-47c5-a618-b0f3914798d7",
   "metadata": {},
   "outputs": [],
   "source": [
    "df = pd.read_csv(\"log_cleaned.csv\")\n",
    "df.columns = df.columns.str.strip().str.lower()"
   ]
  },
  {
   "cell_type": "markdown",
   "id": "b75e1031-a40d-44a9-b9a4-e1d84037ea47",
   "metadata": {},
   "source": [
    "## Step 3: Conversion of times to Minutes "
   ]
  },
  {
   "cell_type": "markdown",
   "id": "7f2d5f4a-0c8e-4f9b-b715-af9c5d4f86b8",
   "metadata": {},
   "source": [
    "This step coverts the raw data for the duration from hours and minutes into minutes. "
   ]
  },
  {
   "cell_type": "code",
   "execution_count": null,
   "id": "5a1e2c0c-aba4-4661-8b14-bc4cf5417c4a",
   "metadata": {},
   "outputs": [],
   "source": [
    "# Convert 'duration' from \"H:MM\" to minutes\n",
    "def duration_to_minutes(duration_str):\n",
    "    try:\n",
    "        h, m = map(int, duration_str.strip().split(':'))\n",
    "        return h * 60 + m\n",
    "    except:\n",
    "        return np.nan\n",
    "\n",
    "df['duration'] = df['duration'].apply(duration_to_minutes)\n",
    "df = df.dropna(subset=['duration'])\n",
    "\n",
    "df['depminuteofday'] = (\n",
    "    pd.to_datetime(df['dep time'], format='%H:%M', errors='coerce').dt.hour * 60 +\n",
    "    pd.to_datetime(df['dep time'], format='%H:%M', errors='coerce').dt.minute\n",
    ")\n",
    "df = df.dropna(subset=['depminuteofday'])"
   ]
  },
  {
   "cell_type": "markdown",
   "id": "8368fd5f-c0a5-4d54-8be9-969be12c0b97",
   "metadata": {},
   "source": [
    "## Step 4: Encode Data"
   ]
  },
  {
   "cell_type": "code",
   "execution_count": null,
   "id": "74aeacd4-8734-4456-a6ac-bb410e317e3a",
   "metadata": {},
   "outputs": [],
   "source": [
    "categorical_cols = ['from iata code', 'to iata code', 'aircraft']\n",
    "encoder = OneHotEncoder(sparse=False, handle_unknown='ignore')\n",
    "encoded = encoder.fit_transform(df[categorical_cols])\n",
    "encoded_df = pd.DataFrame(encoded, columns=encoder.get_feature_names_out(categorical_cols))\n",
    "\n",
    "X = pd.concat([df[['distance', 'depminuteofday']].reset_index(drop=True), encoded_df.reset_index(drop=True)], axis=1)\n",
    "y = df['duration']"
   ]
  },
  {
   "cell_type": "markdown",
   "id": "32453430-7265-4e30-9f4e-5493e7130195",
   "metadata": {},
   "source": [
    "## Step 5:  Train Test Split"
   ]
  },
  {
   "cell_type": "markdown",
   "id": "d87cf86a-0445-419f-a8dd-b3c0daa3e407",
   "metadata": {},
   "source": [
    "This separates the data into train (80%) and test (20%)."
   ]
  },
  {
   "cell_type": "code",
   "execution_count": null,
   "id": "1c0fa5fe-cae4-4c8f-a1f6-8b4d97d0fd94",
   "metadata": {},
   "outputs": [],
   "source": [
    "X_train, X_test, y_train, y_test, idx_train, idx_test = train_test_split(\n",
    "    X, y, df.index, test_size=0.2, random_state=42\n",
    ")"
   ]
  },
  {
   "cell_type": "markdown",
   "id": "30216f9e-7f68-4164-85e3-c6cb1d2540f3",
   "metadata": {},
   "source": [
    "## Step 6:  Random Forest Prediction"
   ]
  },
  {
   "cell_type": "markdown",
   "id": "dd3ca28c-cdde-4bf5-9d19-288bed8425b4",
   "metadata": {},
   "source": [
    "This step uses the RandomForestRegressor to train the model and then predict times.  It calculates and displays the MAE and R-squared"
   ]
  },
  {
   "cell_type": "code",
   "execution_count": null,
   "id": "37af22ff-40bb-4fa0-823a-f274530eb7b9",
   "metadata": {},
   "outputs": [
    {
     "name": "stdout",
     "output_type": "stream",
     "text": [
      "Mean Absolute Error: 5.66 minutes\n",
      "R² Score: 0.96\n"
     ]
    }
   ],
   "source": [
    "# Train model\n",
    "model = RandomForestRegressor(n_estimators=100, random_state=42)\n",
    "model.fit(X_train, y_train)\n",
    "\n",
    "# Predict and evaluate\n",
    "y_pred = model.predict(X_test)\n",
    "mae = mean_absolute_error(y_test, y_pred)\n",
    "r2 = r2_score(y_test, y_pred)\n",
    "\n",
    "print(f\"Mean Absolute Error: {mae:.2f} minutes\")\n",
    "print(f\"R² Score: {r2:.2f}\")"
   ]
  },
  {
   "cell_type": "markdown",
   "id": "ae04a521-8f5d-4e95-9c7c-4f9ccdc83bd2",
   "metadata": {},
   "source": [
    "## Step 6: Sample of Predictions with Errors"
   ]
  },
  {
   "cell_type": "markdown",
   "id": "79bbbd4e-4e12-4091-8244-6735622b3706",
   "metadata": {},
   "source": [
    "This step shows 10 of the predictions to gauge how close the predictions are to actual."
   ]
  },
  {
   "cell_type": "code",
   "execution_count": null,
   "id": "ccb9e60d-1060-4433-95e4-d0bec0d58db0",
   "metadata": {},
   "outputs": [
    {
     "name": "stdout",
     "output_type": "stream",
     "text": [
      "\n",
      "Sample of predictions:\n",
      "  From   To  Distance  Actual Duration  Predicted Duration  Absolute Error\n",
      "0  SJC  ORD      1827              212              220.17            8.17\n",
      "1  MDW  ISP       764               97              112.21           15.21\n",
      "2  MSP  ORD       334               50               54.19            4.19\n",
      "3  LSE  ORD       215               40               47.00            7.00\n",
      "4  MDW  MEM       482               76               73.62            2.38\n",
      "5  DEN  ORD       887              110              111.80            1.80\n",
      "6  ORD  MCI       402               71               60.77           10.23\n",
      "7  LAX  ORD      1743              190              203.75           13.75\n",
      "8  DCA  ORD       611               98               98.52            0.52\n",
      "9  MDW  MSY       828              114              112.37            1.63\n"
     ]
    }
   ],
   "source": [
    "# Results table with route info\n",
    "results_df = pd.DataFrame({\n",
    "    'From': df.loc[idx_test, 'from iata code'].values,\n",
    "    'To': df.loc[idx_test, 'to iata code'].values,\n",
    "    'Distance': df.loc[idx_test, 'distance'].values,\n",
    "    'Actual Duration': y_test.values,\n",
    "    'Predicted Duration': y_pred\n",
    "})\n",
    "results_df['Absolute Error'] = (results_df['Actual Duration'] - results_df['Predicted Duration']).abs()\n",
    "results_df = results_df.round(2)\n",
    "\n",
    "print(\"\\nSample of predictions:\")\n",
    "print(results_df.head(10))"
   ]
  },
  {
   "cell_type": "markdown",
   "id": "0f53cffa-6696-4326-b112-cdf751fc6efa",
   "metadata": {},
   "source": [
    "## Step 7: Visualization"
   ]
  },
  {
   "cell_type": "markdown",
   "id": "7c144070-cbe7-4346-97cc-e57af352e760",
   "metadata": {},
   "source": [
    "This step shows a visualization of the data against actual times."
   ]
  },
  {
   "cell_type": "code",
   "execution_count": null,
   "id": "da83b4b8-bd29-41dd-bf98-5da7f258493f",
   "metadata": {},
   "outputs": [
    {
     "data": {
      "image/png": "[encoded data removed]",
      "text/plain": [
       "<Figure size 576x432 with 1 Axes>"
      ]
     },
     "metadata": {
      "needs_background": "light"
     },
     "output_type": "display_data"
    }
   ],
   "source": [
    "# Plot predictions vs. actual\n",
    "plt.figure(figsize=(8, 6))\n",
    "plt.scatter(y_test, y_pred, alpha=0.5)\n",
    "plt.xlabel(\"Actual Duration (minutes)\")\n",
    "plt.ylabel(\"Predicted Duration (minutes)\")\n",
    "plt.title(\"Predicted vs Actual Flight Duration\")\n",
    "plt.plot([y_test.min(), y_test.max()], [y_test.min(), y_test.max()], color='red')\n",
    "plt.grid(True)\n",
    "plt.tight_layout()\n",
    "plt.show()"
   ]
  }
 ],
 "metadata": {
  "kernelspec": {
   "display_name": "Python 3 (ipykernel)",
   "language": "python",
   "name": "python3"
  },
  "language_info": {
   "codemirror_mode": {
    "name": "ipython",
    "version": 3
   },
   "file_extension": ".py",
   "mimetype": "text/x-python",
   "name": "python",
   "nbconvert_exporter": "python",
   "pygments_lexer": "ipython3",
   "version": "3.9.19"
  }
 },
 "nbformat": 4,
 "nbformat_minor": 5
}
